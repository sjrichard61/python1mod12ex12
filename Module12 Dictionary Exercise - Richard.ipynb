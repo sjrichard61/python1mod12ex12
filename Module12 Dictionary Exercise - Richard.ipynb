{
 "cells": [
  {
   "cell_type": "markdown",
   "metadata": {},
   "source": [
    "### Exercise 1. \n",
    "Create a dictionary named pairs with key value pairs of:\n",
    "    - 'hello' and 'fire', \n",
    "    - 3 and 'seven', \n",
    "    - 'strong' and 45. \n",
    "\n",
    "Then, print out the dictionary."
   ]
  },
  {
   "cell_type": "code",
   "execution_count": 6,
   "metadata": {},
   "outputs": [
    {
     "name": "stdout",
     "output_type": "stream",
     "text": [
      "{'hello': 'fire', 3: 'seven', 'strong': 45}\n"
     ]
    }
   ],
   "source": [
    "pairs = {'hello' : 'fire' , 3 : 'seven' , 'strong' : 45}\n",
    "print(pairs)"
   ]
  },
  {
   "cell_type": "markdown",
   "metadata": {},
   "source": [
    "### Exercise 2. \n",
    "Add 'welcome' and 56 pair into <b><i>pairs</i></b> dictionary from exercise 1. Then, print out the dictionary. "
   ]
  },
  {
   "cell_type": "code",
   "execution_count": 7,
   "metadata": {},
   "outputs": [
    {
     "name": "stdout",
     "output_type": "stream",
     "text": [
      "{'hello': 'fire', 3: 'seven', 'strong': 45, 'welcome': 56}\n"
     ]
    }
   ],
   "source": [
    "pairs['welcome'] = 56\n",
    "print(pairs)"
   ]
  },
  {
   "cell_type": "markdown",
   "metadata": {},
   "source": [
    "### Exercise 3. \n",
    "Delete one item from <b><i>pairs</i></b> dictionary. Then, print deleted item and the dictionary."
   ]
  },
  {
   "cell_type": "code",
   "execution_count": 8,
   "metadata": {},
   "outputs": [
    {
     "name": "stdout",
     "output_type": "stream",
     "text": [
      "fire\n",
      "{3: 'seven', 'strong': 45, 'welcome': 56}\n"
     ]
    }
   ],
   "source": [
    "item = pairs.pop('hello')\n",
    "print(item)\n",
    "print(pairs)"
   ]
  },
  {
   "cell_type": "markdown",
   "metadata": {},
   "source": [
    "### Exercise 4. \n",
    "Print the value of an item where key is 3 in <b><i>pairs</i></b> dicitonary"
   ]
  },
  {
   "cell_type": "code",
   "execution_count": 9,
   "metadata": {},
   "outputs": [
    {
     "name": "stdout",
     "output_type": "stream",
     "text": [
      "seven\n"
     ]
    }
   ],
   "source": [
    "print(pairs[3])"
   ]
  },
  {
   "cell_type": "markdown",
   "metadata": {},
   "source": [
    "### Exercise 5. \n",
    "Try to find out if the key called 'hello' exist in <b><i>pairs</i></b> dictionary. Print 'key is found' message if the key exists otherwise print 'key is not there'."
   ]
  },
  {
   "cell_type": "code",
   "execution_count": 13,
   "metadata": {},
   "outputs": [
    {
     "name": "stdout",
     "output_type": "stream",
     "text": [
      "Key is not there.\n"
     ]
    }
   ],
   "source": [
    "if pairs.get('hello') == None :\n",
    "    print(f\"Key is not there.\")\n",
    "else :\n",
    "    print(f\"Key is found.\")"
   ]
  },
  {
   "cell_type": "markdown",
   "metadata": {},
   "source": [
    "### Exercise 6. \n",
    "Create a Test Scores program that gets the name of students and test score from a user. Then, generate a list of students who passed and a list of students who failed where passing test score is 60 or above. "
   ]
  },
  {
   "cell_type": "code",
   "execution_count": 69,
   "metadata": {},
   "outputs": [
    {
     "name": "stdin",
     "output_type": "stream",
     "text": [
      "Please enter a student's name {name} bill\n",
      "Please enter the student's test score {score} 34\n",
      "Do you have more scores to enter (y/n)? y\n",
      "Please enter a student's name {name} joe\n",
      "Please enter the student's test score {score} 89\n",
      "Do you have more scores to enter (y/n)? y\n",
      "Please enter a student's name {name} ann\n",
      "Please enter the student's test score {score} 60\n",
      "Do you have more scores to enter (y/n)? n\n"
     ]
    },
    {
     "name": "stdout",
     "output_type": "stream",
     "text": [
      "\n",
      "All students and scores: {'Bill': 34, 'Joe': 89, 'Ann': 60}\n",
      "\n",
      "Students who passed: ['Joe', 'Ann']\n",
      "Students who failed: ['Bill']\n"
     ]
    }
   ],
   "source": [
    "#Initialize\n",
    "more = \"\"\n",
    "name = \"\"\n",
    "score = 0\n",
    "all = {}\n",
    "passed = []\n",
    "failed = []\n",
    "\n",
    "#Loop to get names and scores an put them in a dictionary\n",
    "\n",
    "while more.lower() != \"n\" :\n",
    "    name = input(\"Please enter a student's name {name}\")\n",
    "    name = name.capitalize()\n",
    "    score = input(\"Please enter the student's test score {score}\")\n",
    "    all[name] = int(score)\n",
    "    more = input(\"Do you have more scores to enter (y/n)?\")\n",
    "\n",
    "#Print out all students and scores\n",
    "\n",
    "print(f\"\\nAll students and scores:\",all)\n",
    "\n",
    "#Loop to build lists of passinf and failing students\n",
    "\n",
    "for item in all.items() :\n",
    "    if item[1] >= 60 :\n",
    "        passed.append(item[0])\n",
    "    else :\n",
    "        failed.append(item[0])\n",
    "\n",
    "#Print out the lists of passing and failing students\n",
    "\n",
    "print(f\"\\nStudents who passed:\",passed)\n",
    "print(f\"Students who failed:\",failed)"
   ]
  },
  {
   "cell_type": "code",
   "execution_count": null,
   "metadata": {},
   "outputs": [],
   "source": []
  },
  {
   "cell_type": "markdown",
   "metadata": {},
   "source": [
    "### Exercise 7. \n",
    "\n",
    "Create a Word Counter program that gets a string of text from a user and then counts the number of times a word occrs in the string. \n",
    "\n",
    "The output should look something like this:\n",
    "\n",
    "    The Word Counter Program\n",
    "    \n",
    "    Enter a text string: \n",
    "    Humpty Dumpty sat on a wall, Humpty Dumpty had a great fall. All the king’s horses and all the king’s men couldn’t put Humpty together again.\n",
    "\n",
    "    a : 2\n",
    "    again : 1\n",
    "    all : 2\n",
    "    and : 1\n",
    "    couldn’t : 1\n",
    "    dumpty : 2\n",
    "    fall : 1\n",
    "    great : 1\n",
    "    had : 1\n",
    "    horses : 1\n",
    "    humpty : 3\n",
    "    king’s : 2\n",
    "    men : 1\n",
    "    on : 1\n",
    "    put : 1\n",
    "    sat : 1\n",
    "    the : 2\n",
    "    together : 1\n",
    "    wall : 1\n",
    "\n",
    "    There were total 26 words in the text string   "
   ]
  },
  {
   "cell_type": "code",
   "execution_count": 112,
   "metadata": {},
   "outputs": [
    {
     "name": "stdout",
     "output_type": "stream",
     "text": [
      "The Word Counter Program\n",
      "\n"
     ]
    },
    {
     "name": "stdin",
     "output_type": "stream",
     "text": [
      "Enter a text string: Humpty Dumpty sat on a wall, Humpty Dumpty had a great fall. All the king’s horses and all the king’s men couldn’t put Humpty together again.\n"
     ]
    },
    {
     "name": "stdout",
     "output_type": "stream",
     "text": [
      "\n",
      "a : 2\n",
      "again : 1\n",
      "all : 2\n",
      "and : 1\n",
      "couldn’t : 1\n",
      "dumpty : 2\n",
      "fall : 1\n",
      "great : 1\n",
      "had : 1\n",
      "horses : 1\n",
      "humpty : 3\n",
      "king’s : 2\n",
      "men : 1\n",
      "on : 1\n",
      "put : 1\n",
      "sat : 1\n",
      "the : 2\n",
      "together : 1\n",
      "wall : 1\n",
      "\n",
      "There are a total of 19 unique words and 26 total words in the text string.\n"
     ]
    }
   ],
   "source": [
    "#Printout the heading\n",
    "\n",
    "print(\"The Word Counter Program\\n\")\n",
    "\n",
    "#Get the string of text\n",
    "\n",
    "sentence = input(\"Enter a text string:\")\n",
    "\n",
    "#Format the text string, by making it all lower case, parsing it into a list and sorting that list\n",
    "\n",
    "sentence = sentence.lower()\n",
    "parsed = sentence.split()\n",
    "parsed.sort()\n",
    "word_count = {}\n",
    "\n",
    "#Loop to go through the parsed, sorted list, stripping off extra punctuation, counting the number of occurences of each word,\n",
    "#and building a dictionary with the key words and their respective word counts\n",
    "\n",
    "for item in parsed :\n",
    "    item = item.strip(',.?!;')\n",
    "    if word_count.get(item) == None :\n",
    "        word_count[item] = 1\n",
    "    else :\n",
    "        word_count[item] += 1\n",
    "\n",
    "print(f\"\")\n",
    "unique_words = total_words = 0\n",
    "\n",
    "#Loop to print out the words and their respective counts from the dictionary, while also counting and printin the total number of words.\n",
    "\n",
    "for item in word_count.items() :\n",
    "    print(f\"{item[0]} : {item[1]}\")\n",
    "    total_words += item[1]\n",
    "    unique_words += 1\n",
    "print(f\"\\nThere are a total of {unique_words} unique words and {total_words} total words in the text string.\")"
   ]
  },
  {
   "cell_type": "code",
   "execution_count": null,
   "metadata": {},
   "outputs": [],
   "source": []
  }
 ],
 "metadata": {
  "kernelspec": {
   "display_name": "Python 3 (ipykernel)",
   "language": "python",
   "name": "python3"
  },
  "language_info": {
   "codemirror_mode": {
    "name": "ipython",
    "version": 3
   },
   "file_extension": ".py",
   "mimetype": "text/x-python",
   "name": "python",
   "nbconvert_exporter": "python",
   "pygments_lexer": "ipython3",
   "version": "3.11.7"
  }
 },
 "nbformat": 4,
 "nbformat_minor": 4
}
